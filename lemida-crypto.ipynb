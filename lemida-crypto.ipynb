{
 "cells": [
  {
   "cell_type": "code",
   "execution_count": 1,
   "id": "40e09512",
   "metadata": {
    "_cell_guid": "b1076dfc-b9ad-4769-8c92-a6c4dae69d19",
    "_uuid": "8f2839f25d086af736a60e9eeb907d3b93b6e0e5",
    "execution": {
     "iopub.execute_input": "2022-03-15T16:11:48.255188Z",
     "iopub.status.busy": "2022-03-15T16:11:48.253477Z",
     "iopub.status.idle": "2022-03-15T16:11:48.280628Z",
     "shell.execute_reply": "2022-03-15T16:11:48.281125Z",
     "shell.execute_reply.started": "2022-03-15T16:04:41.901356Z"
    },
    "papermill": {
     "duration": 0.036262,
     "end_time": "2022-03-15T16:11:48.281429",
     "exception": false,
     "start_time": "2022-03-15T16:11:48.245167",
     "status": "completed"
    },
    "tags": []
   },
   "outputs": [
    {
     "name": "stdout",
     "output_type": "stream",
     "text": [
      "/kaggle/input/cryptocurrencypricehistory/coin_ChainLink.csv\n",
      "/kaggle/input/cryptocurrencypricehistory/coin_Cardano.csv\n",
      "/kaggle/input/cryptocurrencypricehistory/coin_Solana.csv\n",
      "/kaggle/input/cryptocurrencypricehistory/coin_Dogecoin.csv\n",
      "/kaggle/input/cryptocurrencypricehistory/coin_Polkadot.csv\n",
      "/kaggle/input/cryptocurrencypricehistory/coin_NEM.csv\n",
      "/kaggle/input/cryptocurrencypricehistory/coin_XRP.csv\n",
      "/kaggle/input/cryptocurrencypricehistory/coin_Ethereum.csv\n",
      "/kaggle/input/cryptocurrencypricehistory/coin_Aave.csv\n",
      "/kaggle/input/cryptocurrencypricehistory/coin_Bitcoin.csv\n",
      "/kaggle/input/cryptocurrencypricehistory/coin_Cosmos.csv\n",
      "/kaggle/input/cryptocurrencypricehistory/coin_Litecoin.csv\n",
      "/kaggle/input/cryptocurrencypricehistory/coin_Uniswap.csv\n",
      "/kaggle/input/cryptocurrencypricehistory/coin_EOS.csv\n",
      "/kaggle/input/cryptocurrencypricehistory/coin_BinanceCoin.csv\n",
      "/kaggle/input/cryptocurrencypricehistory/coin_CryptocomCoin.csv\n",
      "/kaggle/input/cryptocurrencypricehistory/coin_USDCoin.csv\n",
      "/kaggle/input/cryptocurrencypricehistory/coin_Monero.csv\n",
      "/kaggle/input/cryptocurrencypricehistory/coin_Tron.csv\n",
      "/kaggle/input/cryptocurrencypricehistory/coin_WrappedBitcoin.csv\n",
      "/kaggle/input/cryptocurrencypricehistory/coin_Tether.csv\n",
      "/kaggle/input/cryptocurrencypricehistory/coin_Iota.csv\n",
      "/kaggle/input/cryptocurrencypricehistory/coin_Stellar.csv\n"
     ]
    }
   ],
   "source": [
    "# This Python 3 environment comes with many helpful analytics libraries installed\n",
    "# It is defined by the kaggle/python Docker image: https://github.com/kaggle/docker-python\n",
    "# For example, here's several helpful packages to load\n",
    "\n",
    "import numpy as np # linear algebra\n",
    "import pandas as pd # data processing, CSV file I/O (e.g. pd.read_csv)\n",
    "\n",
    "# Input data files are available in the read-only \"../input/\" directory\n",
    "# For example, running this (by clicking run or pressing Shift+Enter) will list all files under the input directory\n",
    "\n",
    "import os\n",
    "for dirname, _, filenames in os.walk('/kaggle/input'):\n",
    "    for filename in filenames:\n",
    "        print(os.path.join(dirname, filename))\n",
    "\n",
    "# You can write up to 20GB to the current directory (/kaggle/working/) that gets preserved as output when you create a version using \"Save & Run All\" \n",
    "# You can also write temporary files to /kaggle/temp/, but they won't be saved outside of the current session"
   ]
  },
  {
   "cell_type": "code",
   "execution_count": 2,
   "id": "94b8207d",
   "metadata": {
    "execution": {
     "iopub.execute_input": "2022-03-15T16:11:48.292152Z",
     "iopub.status.busy": "2022-03-15T16:11:48.291231Z",
     "iopub.status.idle": "2022-03-15T16:11:48.650788Z",
     "shell.execute_reply": "2022-03-15T16:11:48.651442Z",
     "shell.execute_reply.started": "2022-03-15T16:08:28.872591Z"
    },
    "papermill": {
     "duration": 0.366106,
     "end_time": "2022-03-15T16:11:48.651643",
     "exception": false,
     "start_time": "2022-03-15T16:11:48.285537",
     "status": "completed"
    },
    "tags": []
   },
   "outputs": [],
   "source": [
    "cryptos = []\n",
    "for name in filenames:\n",
    "    cryptos.append(pd.read_csv(dirname+'/'+name))"
   ]
  }
 ],
 "metadata": {
  "kernelspec": {
   "display_name": "Python 3",
   "language": "python",
   "name": "python3"
  },
  "language_info": {
   "codemirror_mode": {
    "name": "ipython",
    "version": 3
   },
   "file_extension": ".py",
   "mimetype": "text/x-python",
   "name": "python",
   "nbconvert_exporter": "python",
   "pygments_lexer": "ipython3",
   "version": "3.7.12"
  },
  "papermill": {
   "default_parameters": {},
   "duration": 9.46168,
   "end_time": "2022-03-15T16:11:49.264009",
   "environment_variables": {},
   "exception": null,
   "input_path": "__notebook__.ipynb",
   "output_path": "__notebook__.ipynb",
   "parameters": {},
   "start_time": "2022-03-15T16:11:39.802329",
   "version": "2.3.3"
  }
 },
 "nbformat": 4,
 "nbformat_minor": 5
}
