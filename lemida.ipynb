{
  "nbformat": 4,
  "nbformat_minor": 0,
  "metadata": {
    "colab": {
      "name": "lemida.ipynb",
      "provenance": [],
      "authorship_tag": "ABX9TyPQTUD2oPz7D7XOtHuusyiN",
      "include_colab_link": true
    },
    "kernelspec": {
      "name": "python3",
      "display_name": "Python 3"
    },
    "language_info": {
      "name": "python"
    }
  },
  "cells": [
    {
      "cell_type": "markdown",
      "metadata": {
        "id": "view-in-github",
        "colab_type": "text"
      },
      "source": [
        "<a href=\"https://colab.research.google.com/github/elaysason/Crypto-Exp3/blob/main/lemida.ipynb\" target=\"_parent\"><img src=\"https://colab.research.google.com/assets/colab-badge.svg\" alt=\"Open In Colab\"/></a>"
      ]
    },
    {
      "cell_type": "code",
      "execution_count": 1,
      "metadata": {
        "id": "qe1D58r-O7VJ"
      },
      "outputs": [],
      "source": [
        "import datetime\n",
        "import random\n",
        "from operator import itemgetter\n",
        "import pandas as pd\n",
        "import numpy as np\n",
        "import math\n",
        "import matplotlib.pyplot as plt\n",
        "from collections import defaultdict"
      ]
    },
    {
      "cell_type": "code",
      "source": [
        "coins_list = [\"Aave\", \"BinanceCoin\", \"Bitcoin\", \"Cardano\", \"ChainLink\", \"Cosmos\", \"CryptocomCoin\", \"Dogecoin\", \"EOS\",\n",
        "              \"Ethereum\", \"Iota\", \"Litecoin\", \"Monero\", \"NEM\", \"Polkadot\", \"Solana\", \"Stellar\", \"Tether\",\n",
        "              \"Tron\", \"Uniswap\", \"USDCoin\", \"WrappedBitcoin\", \"XRP\"]\n",
        "K = 23\n",
        "epsilon = [1 / K]\n",
        "t = 0\n",
        "T = 2991\n",
        "\n",
        "reward_sum = dict()\n"
      ],
      "metadata": {
        "id": "maXpbBKWkCRh"
      },
      "execution_count": 2,
      "outputs": []
    },
    {
      "cell_type": "code",
      "source": [
        "crypto_datasets = dict()\n",
        "for c in coins_list:\n",
        "    file = \"coin_\" + c + \".csv\"\n",
        "    crypto = pd.read_csv(file)\n",
        "    crypto['Date'] = pd.to_datetime(crypto['Date']).dt.date\n",
        "    crypto_datasets[c] = crypto\n",
        "    reward_sum[c] = 0"
      ],
      "metadata": {
        "id": "zh7faJkFkZ4W"
      },
      "execution_count": 6,
      "outputs": []
    },
    {
      "cell_type": "code",
      "source": [
        "def get_date(start_date, days):\n",
        "    return start_date + datetime.timedelta(days=days)"
      ],
      "metadata": {
        "id": "qiY-VkoTkppC"
      },
      "execution_count": 7,
      "outputs": []
    },
    {
      "cell_type": "code",
      "source": [
        "def payoff(coin, start_date, t, amountToInvest=1.0):\n",
        "    date = get_date(start_date, t).date()\n",
        "    on_date = crypto_datasets[coin].loc[crypto_datasets[coin][\"Date\"] == date]\n",
        "    if len(on_date) == 0:\n",
        "        before_date = crypto_datasets[coin].loc[crypto_datasets[coin][\"Date\"] < date].sort_values(by=[\"Date\"],ascending=False)\n",
        "        open = before_date['Open'].head(20).mean()\n",
        "        close = before_date['Close'].head(20).mean()\n",
        "        return amountToInvest*close/open - amountToInvest\n",
        "\n",
        "    sharesBought = amountToInvest / pd.to_numeric(on_date['Open'])\n",
        "    amountAfterSale = list(pd.to_numeric(sharesBought) * pd.to_numeric(on_date['Close']))[0]\n",
        "\n",
        "    return amountAfterSale - amountToInvest"
      ],
      "metadata": {
        "id": "dkhs96IzkeLL"
      },
      "execution_count": 8,
      "outputs": []
    },
    {
      "cell_type": "code",
      "source": [
        "def get_existing_coins(start_date, days):\n",
        "    existing = []\n",
        "    new = []\n",
        "    for i, key in enumerate(crypto_datasets.keys()):\n",
        "        if min(crypto_datasets[key][\"Date\"]) <= get_date(start_date, days).date():\n",
        "            existing.append(i)\n",
        "    return existing"
      ],
      "metadata": {
        "id": "KcFnRwkTks6n"
      },
      "execution_count": 9,
      "outputs": []
    },
    {
      "cell_type": "code",
      "source": [
        "def choose_coin(coin_value_list):\n",
        "    coins = [tup[0] for tup in coin_value_list]\n",
        "    probs = [float(tup[1]) for tup in coin_value_list]\n",
        "    return random.choices(coins, weights=probs)[0]"
      ],
      "metadata": {
        "id": "pXxyzjl6kv_d"
      },
      "execution_count": 10,
      "outputs": []
    },
    {
      "cell_type": "code",
      "source": [
        "def exp3_base(date, days):\n",
        "    eta = np.sqrt(np.log(K) / (T * K))\n",
        "    start_date = datetime.datetime.strptime(date, \"%Y-%m-%d\")\n",
        "    existing_coins = get_existing_coins(start_date, 0)\n",
        "    coins_election = []\n",
        "    scores = [0] * K\n",
        "    reward = lambda choice, t: payoff(coins_list[choice], start_date, t)\n",
        "    best_sum = 0\n",
        "    reward_sum = 0\n",
        "    for t in range(1, days):\n",
        "        cur_distribution = []\n",
        "        for i in range(K):\n",
        "            if i in existing_coins:\n",
        "                cur_distribution.append(\n",
        "                    np.exp(eta * scores[i]) / np.sum([np.exp(scores[j] * eta) for j in existing_coins]))\n",
        "            else:\n",
        "                cur_distribution.append(0)\n",
        "        coins_values = [(coin, cur_distribution[coin]) for coin in existing_coins]\n",
        "        chosen_coin = choose_coin(coins_values)\n",
        "        cur_reward = payoff(coins_list[chosen_coin], start_date, t=t-1)\n",
        "        for i in range(K):\n",
        "            if i in existing_coins:\n",
        "                scores[i] = scores[i] + 1\n",
        "                if chosen_coin == i:\n",
        "                    scores[i] -= (1 - cur_reward) / cur_distribution[i]\n",
        "        reward_sum += cur_reward\n",
        "        coins_election.append(chosen_coin)\n",
        "        best_sum += max([reward(s, t) for s in existing_coins])\n",
        "        old_len = len(existing_coins)\n",
        "        existing_coins = get_existing_coins(start_date, t)\n",
        "    return reward_sum"
      ],
      "metadata": {
        "id": "JQ3UukuKk2mU"
      },
      "execution_count": 11,
      "outputs": []
    },
    {
      "cell_type": "code",
      "source": [
        "def exp3_extension1(date, days):\n",
        "    epsilon = [1 / K]\n",
        "    start_date = datetime.datetime.strptime(date, \"%Y-%m-%d\")\n",
        "    rewards = []\n",
        "    best_rewards = []\n",
        "    existing_coins = get_existing_coins(start_date, 0)\n",
        "    coins_election = []\n",
        "    scores = [0] * K\n",
        "    reward = lambda choice, t: payoff(coins_list[choice], start_date, t)\n",
        "    best_sum = 0\n",
        "    reward_sum = 0\n",
        "    for t in range(1, days):\n",
        "        epsilon.append(min([epsilon[0], math.sqrt(np.log(len(existing_coins)) / (len(existing_coins) * t))]))\n",
        "        cur_distribution = []\n",
        "        for i in range(K):\n",
        "            if i in existing_coins:\n",
        "                cur_distribution.append(1 - len(existing_coins) * epsilon[t])\n",
        "                val = math.exp(epsilon[t - 1] * scores[i]) / \\\n",
        "                sum([math.exp(epsilon[t - 1] * scores[c]) for c in existing_coins])\n",
        "                cur_distribution[i] *= val\n",
        "                cur_distribution[i] += epsilon[t]\n",
        "            else:\n",
        "                cur_distribution.append(0)\n",
        "        coins_values = [(coin, cur_distribution[coin]) for coin in existing_coins]\n",
        "        chosen_coin = choose_coin(coins_values)\n",
        "        cur_reward = payoff(coins_list[chosen_coin], start_date, t=t-1)\n",
        "        scores[chosen_coin] += (cur_reward) / cur_distribution[chosen_coin]\n",
        "        reward_sum += cur_reward\n",
        "        coins_election.append(chosen_coin)\n",
        "        best_sum += max([reward(s, t) for s in existing_coins])\n",
        "        old_len = len(existing_coins)\n",
        "        existing_coins = get_existing_coins(start_date, t)\n",
        "    return reward_sum"
      ],
      "metadata": {
        "id": "gKUV2JhztlaL"
      },
      "execution_count": 12,
      "outputs": []
    },
    {
      "cell_type": "code",
      "source": [
        "def payoff_to_day(coin,start_date,day):\n",
        "    sum = 0\n",
        "    for i in range(day):\n",
        "        sum += payoff(coin,start_date,i)\n",
        "    return sum"
      ],
      "metadata": {
        "id": "YVOqYqmBQRpE"
      },
      "execution_count": 13,
      "outputs": []
    },
    {
      "cell_type": "code",
      "source": [
        "def get_best_coin_sum(date, days):\n",
        "    start_date = datetime.datetime.strptime(\"2013-04-29\", \"%Y-%m-%d\")\n",
        "    best_sum = -float(\"inf\")\n",
        "    best_coin = list(crypto_datasets.keys())[0]\n",
        "    for coin in crypto_datasets.keys():\n",
        "        reward_sum = 0\n",
        "        for t in range(days):\n",
        "            reward_sum += payoff(coin, start_date, t)\n",
        "        if reward_sum >= best_sum:\n",
        "            best_coin = coin\n",
        "            best_sum = reward_sum\n",
        "\n",
        "    return best_coin, best_sum"
      ],
      "metadata": {
        "id": "3iuPz6fm7c7s"
      },
      "execution_count": 14,
      "outputs": []
    },
    {
      "cell_type": "code",
      "source": [
        "days = range(600, 2000, 50)\n",
        "regrets = [exp3_base(\"2013-04-29\", t) for t in days]\n",
        "plt.title('Regret As a Function of Number of Days')\n",
        "plt.plot(days, regrets)\n",
        "plt.xlabel('Number Of Days')\n",
        "plt.ylabel('Regret')\n",
        "plt.show()"
      ],
      "metadata": {
        "id": "YnISDjLsk8CC"
      },
      "execution_count": null,
      "outputs": []
    },
    {
      "cell_type": "code",
      "source": [
        "days = range(600, 2000, 50)\n",
        "rewards_extended= [exp3_extension1('2013-04-29',i) for i in days]\n",
        "rewards_basis = [exp3_base('2013-04-29',i) for i in days]\n",
        "best_coin_rewards = [get_best_coin_sum(\"2013-04-29\", i) for i in days]\n",
        "best_coin = best_coin_rewards[-1][0]\n",
        "best_rewards = [r[1] for r in best_coin_rewards]\n",
        "regrets_extended = [best_rewards[i] - rewards_extended[i] for i in days]\n",
        "regrets_basis = [best_rewards[i] - rewards_basis[i] for i in days]\n",
        "\n",
        "plt.title('Regret As a Function of Number of Days')\n",
        "plt.plot(days, regrets_extended, label = 'Extented 1')\n",
        "plt.plot(days, regrets_basis,label = 'Basis')\n",
        "plt.xlabel('Number Of Days')\n",
        "plt.ylabel('Regret')\n",
        "plt.show()"
      ],
      "metadata": {
        "id": "jkeXITnB7m7V"
      },
      "execution_count": null,
      "outputs": []
    },
    {
      "cell_type": "code",
      "source": [
        "regrets_extended = [best_coin_rewards[i] - rewards_extended[i] for i in range(len(days))]\n",
        "regrets_basis = [best_coin_rewards[i] - rewards_basis[i] for i in range(len(days))]\n",
        "\n",
        "plt.title('Regret As a Function of Number of Days')\n",
        "plt.plot(days, regrets_extended, label = 'Extented 1')\n",
        "plt.plot(days, regrets_basis,label = 'Basis')\n",
        "plt.legend()\n",
        "plt.xlabel('Number Of Days')\n",
        "plt.ylabel('Regret')\n",
        "plt.show()"
      ],
      "metadata": {
        "id": "XdXNFrrVJLtm"
      },
      "execution_count": null,
      "outputs": []
    },
    {
      "cell_type": "code",
      "source": [
        "best = get_best_coin_sum(\"2013-04-29\", T)"
      ],
      "metadata": {
        "id": "s_I4zL9AMLIW"
      },
      "execution_count": null,
      "outputs": []
    },
    {
      "cell_type": "code",
      "source": [
        "start_date = datetime.datetime.strptime('2013-04-29', \"%Y-%m-%d\")\n",
        "best_coin_rewards = [payoff_to_day(best_coin,start_date,i) for i in days]\n"
      ],
      "metadata": {
        "id": "3TmDegC-No-l"
      },
      "execution_count": null,
      "outputs": []
    },
    {
      "cell_type": "code",
      "source": [
        "len(best_rewards)"
      ],
      "metadata": {
        "colab": {
          "base_uri": "https://localhost:8080/"
        },
        "id": "NvzdpB3OJCjx",
        "outputId": "f9bc6990-8350-4516-a5ac-a505c7c73fb1"
      },
      "execution_count": null,
      "outputs": [
        {
          "output_type": "execute_result",
          "data": {
            "text/plain": [
              "28"
            ]
          },
          "metadata": {},
          "execution_count": 73
        }
      ]
    },
    {
      "cell_type": "code",
      "source": [
        "len(rewards_extended)"
      ],
      "metadata": {
        "colab": {
          "base_uri": "https://localhost:8080/"
        },
        "id": "p0P2_iSbJE9G",
        "outputId": "0650c412-b62f-4b1f-b360-af42892ecf4d"
      },
      "execution_count": null,
      "outputs": [
        {
          "output_type": "execute_result",
          "data": {
            "text/plain": [
              "28"
            ]
          },
          "metadata": {},
          "execution_count": 74
        }
      ]
    },
    {
      "cell_type": "code",
      "source": [
        "rewards_basis = [exp3_base('2013-04-29',i) for i in days]\n"
      ],
      "metadata": {
        "id": "2cY10z1zG-Jr"
      },
      "execution_count": null,
      "outputs": []
    }
  ]
}