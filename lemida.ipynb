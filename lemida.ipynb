{
  "nbformat": 4,
  "nbformat_minor": 0,
  "metadata": {
    "colab": {
      "name": "lemida.ipynb",
      "provenance": [],
      "authorship_tag": "ABX9TyOqAp79F9zz2pVR0gvl72zi",
      "include_colab_link": true
    },
    "kernelspec": {
      "name": "python3",
      "display_name": "Python 3"
    },
    "language_info": {
      "name": "python"
    }
  },
  "cells": [
    {
      "cell_type": "markdown",
      "metadata": {
        "id": "view-in-github",
        "colab_type": "text"
      },
      "source": [
        "<a href=\"https://colab.research.google.com/github/elaysason/Crypto-Exp3/blob/main/lemida.ipynb\" target=\"_parent\"><img src=\"https://colab.research.google.com/assets/colab-badge.svg\" alt=\"Open In Colab\"/></a>"
      ]
    },
    {
      "cell_type": "code",
      "execution_count": 1,
      "metadata": {
        "id": "qe1D58r-O7VJ"
      },
      "outputs": [],
      "source": [
        "import datetime\n",
        "import random\n",
        "from operator import itemgetter\n",
        "import pandas as pd\n",
        "import numpy as np\n",
        "import math\n",
        "import matplotlib.pyplot as plt\n",
        "from collections import defaultdict"
      ]
    },
    {
      "cell_type": "code",
      "source": [
        "coins_list = [\"BinanceCoin\", \"Bitcoin\", \"Cardano\", \"ChainLink\", \"CryptocomCoin\", \"Dogecoin\", \"EOS\",\n",
        "              \"Ethereum\", \"Iota\", \"Litecoin\", \"Monero\", \"NEM\", \"Stellar\", \"Tether\",\n",
        "              \"Tron\", \"USDCoin\", \"WrappedBitcoin\", \"XRP\"]\n",
        "K = 18\n",
        "epsilon = [1 / K]\n",
        "t = 0\n",
        "T = 2991\n",
        "\n",
        "reward_sum = dict()\n"
      ],
      "metadata": {
        "id": "maXpbBKWkCRh"
      },
      "execution_count": 45,
      "outputs": []
    },
    {
      "cell_type": "code",
      "source": [
        "crypto_datasets = dict()\n",
        "for c in coins_list:\n",
        "    file = \"coin_\" + c + \".csv\"\n",
        "    crypto = pd.read_csv(file)\n",
        "    crypto['Date'] = pd.to_datetime(crypto['Date']).dt.date\n",
        "    crypto_datasets[c] = crypto\n",
        "    reward_sum[c] = 0"
      ],
      "metadata": {
        "id": "zh7faJkFkZ4W"
      },
      "execution_count": 4,
      "outputs": []
    },
    {
      "cell_type": "code",
      "source": [
        "def get_date(start_date, days):\n",
        "    return start_date + datetime.timedelta(days=days)"
      ],
      "metadata": {
        "id": "qiY-VkoTkppC"
      },
      "execution_count": 5,
      "outputs": []
    },
    {
      "cell_type": "code",
      "source": [
        "def payoff(coin, start_date, t, amountToInvest=1.0):\n",
        "    date = get_date(start_date, t).date()\n",
        "    on_date = crypto_datasets[coin].loc[crypto_datasets[coin][\"Date\"] == date]\n",
        "    if len(on_date) == 0:\n",
        "        before_date = crypto_datasets[coin].loc[crypto_datasets[coin][\"Date\"] < date].sort_values(by=[\"Date\"],ascending=False)\n",
        "        open = before_date['Open'].head(20).mean()\n",
        "        close = before_date['Close'].head(20).mean()\n",
        "        return amountToInvest*close/open - amountToInvest\n",
        "\n",
        "    sharesBought = amountToInvest / pd.to_numeric(on_date['Open'])\n",
        "    amountAfterSale = list(pd.to_numeric(sharesBought) * pd.to_numeric(on_date['Close']))[0]\n",
        "\n",
        "    return amountAfterSale - amountToInvest"
      ],
      "metadata": {
        "id": "dkhs96IzkeLL"
      },
      "execution_count": 6,
      "outputs": []
    },
    {
      "cell_type": "code",
      "source": [
        "def get_existing_coins(start_date, days):\n",
        "    existing = []\n",
        "    new = []\n",
        "    for i, key in enumerate(crypto_datasets.keys()):\n",
        "        if min(crypto_datasets[key][\"Date\"]) <= get_date(start_date, days).date():\n",
        "            existing.append(i)\n",
        "    return existing"
      ],
      "metadata": {
        "id": "KcFnRwkTks6n"
      },
      "execution_count": 7,
      "outputs": []
    },
    {
      "cell_type": "code",
      "source": [
        "def choose_coin(coin_value_list):\n",
        "    coins = [tup[0] for tup in coin_value_list]\n",
        "    probs = [float(tup[1]) for tup in coin_value_list]\n",
        "    return random.choices(coins, weights=probs)[0]"
      ],
      "metadata": {
        "id": "pXxyzjl6kv_d"
      },
      "execution_count": 10,
      "outputs": []
    },
    {
      "cell_type": "code",
      "source": [
        "def exp3_base(date, days):\n",
        "    eta = np.sqrt(np.log(K) / (days* K))\n",
        "    start_date = datetime.datetime.strptime(date, \"%Y-%m-%d\")\n",
        "    scores = [0] * K\n",
        "    reward_sum = 0\n",
        "    for t in range(1, days):\n",
        "        cur_distribution = []\n",
        "        sum_scores = np.sum([np.exp(s * eta) for s in scores])\n",
        "        for i in range(K):\n",
        "            cur_distribution.append(\n",
        "                np.exp(eta * scores[i]) / sum_scores)\n",
        "        coins_values = [(coin, cur_distribution[coin]) for coin in range(K)]\n",
        "        chosen_coin = choose_coin(coins_values)\n",
        "        cur_reward = payoff(coins_list[chosen_coin], start_date, t)\n",
        "        for i in range(K):\n",
        "            scores[i] = scores[i] + 1\n",
        "            if chosen_coin == i:\n",
        "                scores[i] -= (1 - cur_reward) / cur_distribution[i]\n",
        "        reward_sum += cur_reward * cur_distribution[chosen_coin]\n",
        "    return reward_sum\n"
      ],
      "metadata": {
        "id": "JQ3UukuKk2mU"
      },
      "execution_count": 51,
      "outputs": []
    },
    {
      "cell_type": "code",
      "source": [
        "def exp3_extension1(date, days):\n",
        "    epsilon = [1 / K]\n",
        "    start_date = datetime.datetime.strptime(date, \"%Y-%m-%d\")\n",
        "    rewards = []\n",
        "    scores = [0] * K\n",
        "    reward_sum = 0\n",
        "    for t in range(1, days):\n",
        "        epsilon.append(min([epsilon[0], math.sqrt(np.log(K) / (K * t))]))\n",
        "        cur_distribution = []\n",
        "        sum_scores = sum([math.exp(epsilon[t - 1] * s) for s in scores])\n",
        "        for i in range(K):\n",
        "            cur_distribution.append(1 - K * epsilon[t])\n",
        "            val = math.exp(epsilon[t - 1] * scores[i]) / sum_scores\n",
        "            cur_distribution[i] *= val\n",
        "            cur_distribution[i] += epsilon[t]\n",
        "            \n",
        "        coins_values = [(coin, cur_distribution[coin]) for coin in range(K)]\n",
        "        chosen_coin = choose_coin(coins_values)\n",
        "        cur_reward = payoff(coins_list[chosen_coin], start_date, t)\n",
        "        scores[chosen_coin] += (cur_reward) / cur_distribution[chosen_coin]\n",
        "        reward_sum += cur_reward * cur_distribution[chosen_coin]\n",
        "    return reward_sum\n"
      ],
      "metadata": {
        "id": "gKUV2JhztlaL"
      },
      "execution_count": 49,
      "outputs": []
    },
    {
      "cell_type": "code",
      "source": [
        "def payoff_to_day(coin,start_date,day):\n",
        "    return sum([payoff(coin,start_date,i) for i in range(day)])"
      ],
      "metadata": {
        "id": "YVOqYqmBQRpE"
      },
      "execution_count": 14,
      "outputs": []
    },
    {
      "cell_type": "code",
      "source": [
        "def get_best_coin_sum(date, days):\n",
        "    start_date = datetime.datetime.strptime(date, \"%Y-%m-%d\")\n",
        "    best_sum = -float(\"inf\")\n",
        "    best_coin = list(crypto_datasets.keys())[0]\n",
        "    for coin in crypto_datasets.keys():\n",
        "        reward_sum = 0\n",
        "        for t in range(days):\n",
        "            reward_sum += payoff(coin, start_date, t)\n",
        "        if reward_sum >= best_sum:\n",
        "            best_coin = coin\n",
        "            best_sum = reward_sum"
      ],
      "metadata": {
        "id": "3iuPz6fm7c7s"
      },
      "execution_count": 15,
      "outputs": []
    },
    {
      "cell_type": "code",
      "source": [
        "days = range(1, 885, 5)\n",
        "rewards_extended = [exp3_extension1('2019-02-1', i) for i in days]\n",
        "rewards_basis = [exp3_base('2019-02-1', i) for i in days]\n",
        "##best_coin_rewards = [get_best_coin_sum(\"2013-04-29\", i) for i in days]\n",
        "##best_coin = best_coin_rewards[-1][0]\n",
        "##best_rewards = [r[1] for r in best_coin_rewards]\n",
        "result = open('results_new.txt','r')\n",
        "best_rewards = []\n",
        "for i,line in enumerate(result):\n",
        "    if i == 1:\n",
        "        array = line.replace('[','').replace(']','').split(',')\n",
        "        best_rewards = [float(x) for x in array]\n",
        "regrets_extended = [best_rewards[i] - rewards_extended[i] for i in range(len(days))]\n",
        "regrets_basis = [best_rewards[i] - rewards_basis[i] for i in range(len(days))]"
      ],
      "metadata": {
        "id": "JGRyo4-kudbW"
      },
      "execution_count": 52,
      "outputs": []
    },
    {
      "cell_type": "code",
      "source": [
        "plt.plot(days,[np.sqrt(np.log(K) * (day* K)) for day in days],label='Bound')\n",
        "plt.plot(days, regrets_extended, label='Basis')\n"
      ],
      "metadata": {
        "colab": {
          "base_uri": "https://localhost:8080/",
          "height": 283
        },
        "id": "GnRFGnFF37nS",
        "outputId": "74e8bde3-48a1-4e4e-9676-894827c9bbae"
      },
      "execution_count": 53,
      "outputs": [
        {
          "output_type": "execute_result",
          "data": {
            "text/plain": [
              "[<matplotlib.lines.Line2D at 0x7f7215a9fe10>]"
            ]
          },
          "metadata": {},
          "execution_count": 53
        },
        {
          "output_type": "display_data",
          "data": {
            "text/plain": [
              "<Figure size 432x288 with 1 Axes>"
            ],
            "image/png": "[encoded data removed]"
          },
          "metadata": {
            "needs_background": "light"
          }
        }
      ]
    },
    {
      "cell_type": "code",
      "source": [
        "plt.title('Regret As a Function of Number of Days')\n",
        "plt.plot(days, regrets_basis, label='First Extension')\n",
        "plt.plot(days, regrets_extended, label='Basis')\n",
        "plt.xlabel('Number Of Days')\n",
        "plt.legend()\n",
        "plt.ylabel('Regret')\n",
        "plt.show()"
      ],
      "metadata": {
        "id": "XdXNFrrVJLtm",
        "colab": {
          "base_uri": "https://localhost:8080/",
          "height": 295
        },
        "outputId": "403f60a2-87e5-445c-f8f3-1ca94f982280"
      },
      "execution_count": 54,
      "outputs": [
        {
          "output_type": "display_data",
          "data": {
            "text/plain": [
              "<Figure size 432x288 with 1 Axes>"
            ],
            "image/png": "[encoded data removed]"
          },
          "metadata": {
            "needs_background": "light"
          }
        }
      ]
    }
  ]
}